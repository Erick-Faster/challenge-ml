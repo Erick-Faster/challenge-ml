{
 "cells": [
  {
   "cell_type": "markdown",
   "metadata": {},
   "source": [
    "### Desafio 2 MeLi - Extração de Itens Via API MeLi"
   ]
  },
  {
   "cell_type": "markdown",
   "metadata": {},
   "source": [
    "Este script faz parte de etapa do processo seletivo para o MeLi."
   ]
  },
  {
   "cell_type": "markdown",
   "metadata": {},
   "source": [
    "Através deste script, deseja-se extraír pelo menos 50 items para cada termo de entrada, para que sejam tratados e armazenados. Em resumo, o script:\n",
    "- Lê os termos de entrada\n",
    "- Realiza busca através de API aberta do Mercado Livre\n",
    "- Para cada resultado, seu ID é extraído\n",
    "- Para cada ID, é realizada uma consulta no endpoint /itens na API\n",
    "- Os atributos mais relevantes são extraídos\n",
    "- Os dados são organizados em um DataFrame\n",
    "- É realizado um tratamento simples de remoção de duplicatas\n",
    "- Os dados tratados são armazenados em uma planilha .csv"
   ]
  },
  {
   "cell_type": "markdown",
   "metadata": {},
   "source": [
    "##### 1 - Importação das Bibliotecas"
   ]
  },
  {
   "cell_type": "code",
   "execution_count": 1,
   "metadata": {},
   "outputs": [],
   "source": [
    "import requests\n",
    "import pandas as pd"
   ]
  },
  {
   "cell_type": "markdown",
   "metadata": {},
   "source": [
    "#### 2 - Definição dos Parâmetros"
   ]
  },
  {
   "cell_type": "code",
   "execution_count": 2,
   "metadata": {},
   "outputs": [],
   "source": [
    "# Estes itens serão lidos pelo script\n",
    "SEARCH_LIST = ['Google Home','Apple TV', 'Amazon Fire TV', 'chromecast', 'Alexa']\n",
    "\n",
    "# Esta URL contém o Endpoint de busca dos itens pesquisados\n",
    "URL_SEARCH_BASE = 'https://api.mercadolibre.com/sites/MLA'\n",
    "\n",
    "# Esta URL contém a descrição detalhada de cada item\n",
    "URL_ITEM_BASE = 'https://api.mercadolibre.com/items/'\n",
    "\n",
    "# Este é o limite de extração para cada item\n",
    "LIMIT = 50\n",
    "\n",
    "# Este é o nome do arquivo de saída csv gerado\n",
    "OUTPUT_NAME = 'oferta-vidriera.csv'"
   ]
  },
  {
   "cell_type": "markdown",
   "metadata": {},
   "source": [
    "#### 3 - Busca dos Produtos"
   ]
  },
  {
   "cell_type": "markdown",
   "metadata": {},
   "source": [
    "Aqui é realizado a extração dos IDs dos itens encontrados"
   ]
  },
  {
   "cell_type": "code",
   "execution_count": 3,
   "metadata": {},
   "outputs": [
    {
     "data": {
      "text/plain": [
       "['MLA918072516',\n",
       " 'MLA1146279904',\n",
       " 'MLA1376911913',\n",
       " 'MLA1389173603',\n",
       " 'MLA1384134643']"
      ]
     },
     "execution_count": 3,
     "metadata": {},
     "output_type": "execute_result"
    }
   ],
   "source": [
    "item_list = []\n",
    "searched_list = []\n",
    "\n",
    "search_list = SEARCH_LIST\n",
    "for search_product in search_list:\n",
    "    url = f'{URL_SEARCH_BASE}/search?q={search_product}&limit={str(LIMIT)}#json'\n",
    "    response = requests.get(url)\n",
    "    data = response.json()\n",
    "    results = data['results']\n",
    "    for result in results:\n",
    "        item_id = result['id']\n",
    "        item_list.append(item_id)\n",
    "        searched_list.append(search_product)\n",
    "\n",
    "item_list[:5]"
   ]
  },
  {
   "cell_type": "markdown",
   "metadata": {},
   "source": [
    "#### 4 - Detalhes dos Produtos"
   ]
  },
  {
   "cell_type": "markdown",
   "metadata": {},
   "source": [
    "Extraímos assim os detalhes dos produtos encontrado a partir do seu ID. Dados como nome, data de submissão, quantidade e preço são interessantes para a construção de um relatório de oferta dos produtos."
   ]
  },
  {
   "cell_type": "markdown",
   "metadata": {},
   "source": [
    "Foi adicionado também no catálogo o termo buscado para cada item encontrado, junto aos itens extraídos pela API"
   ]
  },
  {
   "cell_type": "code",
   "execution_count": 4,
   "metadata": {},
   "outputs": [
    {
     "data": {
      "text/plain": [
       "{'id': 'MLA918072516',\n",
       " 'item_search': 'Google Home',\n",
       " 'title': 'Google Nest Mini Nest Mini 2nd Gen Con Asistente Virtual Google Assistant Chalk 110v/220v',\n",
       " 'condition': 'new',\n",
       " 'domain': 'MLA-SMART_SPEAKERS',\n",
       " 'price': 61740.5,\n",
       " 'original_price': 64990,\n",
       " 'date_created': '2021-04-26T19:22:18.000Z',\n",
       " 'date_updated': '2024-04-26T15:05:18.000Z',\n",
       " 'quantity': 1935,\n",
       " 'link': 'https://articulo.mercadolibre.com.ar/MLA-918072516-google-nest-mini-nest-mini-2nd-gen-con-asistente-virtual-google-assistant-chalk-110v220v-_JM',\n",
       " 'status': 'active'}"
      ]
     },
     "execution_count": 4,
     "metadata": {},
     "output_type": "execute_result"
    }
   ],
   "source": [
    "product_list = []\n",
    "for item, searched_item in zip(item_list, searched_list):\n",
    "    url_item = URL_ITEM_BASE + item\n",
    "    response_item = requests.get(url_item)\n",
    "    data_item = response_item.json()\n",
    "    product_dict = {\n",
    "        'id': data_item['id'],\n",
    "        'item_search': searched_item,\n",
    "        'title': data_item['title'],\n",
    "        'condition':data_item['condition'],\n",
    "        'domain': data_item['domain_id'],\n",
    "        'price': data_item['price'],\n",
    "        'original_price': data_item['original_price'],\n",
    "        'date_created': data_item['date_created'],\n",
    "        'date_updated' : data_item['last_updated'],\n",
    "        'quantity': data_item['initial_quantity'],\n",
    "        'link': data_item['permalink'],\n",
    "        'status': data_item['status']\n",
    "        }\n",
    "    product_list.append(product_dict)\n",
    "\n",
    "product_list[0]"
   ]
  },
  {
   "cell_type": "markdown",
   "metadata": {},
   "source": [
    "#### 5 - Tratamento dos Dados"
   ]
  },
  {
   "cell_type": "markdown",
   "metadata": {},
   "source": [
    "Aqui é realizado o tratamento dos dados. Novos tratamentos podem ser realizados, como ordenações, remoção de nulos, etc."
   ]
  },
  {
   "cell_type": "code",
   "execution_count": 5,
   "metadata": {},
   "outputs": [
    {
     "data": {
      "text/html": [
       "<div>\n",
       "<style scoped>\n",
       "    .dataframe tbody tr th:only-of-type {\n",
       "        vertical-align: middle;\n",
       "    }\n",
       "\n",
       "    .dataframe tbody tr th {\n",
       "        vertical-align: top;\n",
       "    }\n",
       "\n",
       "    .dataframe thead th {\n",
       "        text-align: right;\n",
       "    }\n",
       "</style>\n",
       "<table border=\"1\" class=\"dataframe\">\n",
       "  <thead>\n",
       "    <tr style=\"text-align: right;\">\n",
       "      <th></th>\n",
       "      <th>id</th>\n",
       "      <th>item_search</th>\n",
       "      <th>title</th>\n",
       "      <th>condition</th>\n",
       "      <th>domain</th>\n",
       "      <th>price</th>\n",
       "      <th>original_price</th>\n",
       "      <th>date_created</th>\n",
       "      <th>date_updated</th>\n",
       "      <th>quantity</th>\n",
       "      <th>link</th>\n",
       "      <th>status</th>\n",
       "    </tr>\n",
       "  </thead>\n",
       "  <tbody>\n",
       "    <tr>\n",
       "      <th>0</th>\n",
       "      <td>MLA918072516</td>\n",
       "      <td>Google Home</td>\n",
       "      <td>Google Nest Mini Nest Mini 2nd Gen Con Asisten...</td>\n",
       "      <td>new</td>\n",
       "      <td>MLA-SMART_SPEAKERS</td>\n",
       "      <td>61740.5</td>\n",
       "      <td>64990.0</td>\n",
       "      <td>2021-04-26T19:22:18.000Z</td>\n",
       "      <td>2024-04-26T15:05:18.000Z</td>\n",
       "      <td>1935</td>\n",
       "      <td>https://articulo.mercadolibre.com.ar/MLA-91807...</td>\n",
       "      <td>active</td>\n",
       "    </tr>\n",
       "    <tr>\n",
       "      <th>1</th>\n",
       "      <td>MLA1146279904</td>\n",
       "      <td>Google Home</td>\n",
       "      <td>Google Home Mini Con Asistente Virtual Google ...</td>\n",
       "      <td>new</td>\n",
       "      <td>MLA-SMART_SPEAKERS</td>\n",
       "      <td>67190.0</td>\n",
       "      <td>99990.0</td>\n",
       "      <td>2022-07-09T21:58:24.000Z</td>\n",
       "      <td>2024-04-26T03:17:56.287Z</td>\n",
       "      <td>1271</td>\n",
       "      <td>https://articulo.mercadolibre.com.ar/MLA-11462...</td>\n",
       "      <td>active</td>\n",
       "    </tr>\n",
       "    <tr>\n",
       "      <th>2</th>\n",
       "      <td>MLA1376911913</td>\n",
       "      <td>Google Home</td>\n",
       "      <td>Google Home Mini Con Asistente Virtual Google ...</td>\n",
       "      <td>new</td>\n",
       "      <td>MLA-SMART_SPEAKERS</td>\n",
       "      <td>128999.0</td>\n",
       "      <td>NaN</td>\n",
       "      <td>2023-07-12T23:49:14.000Z</td>\n",
       "      <td>2024-04-17T17:40:46.000Z</td>\n",
       "      <td>20</td>\n",
       "      <td>https://articulo.mercadolibre.com.ar/MLA-13769...</td>\n",
       "      <td>active</td>\n",
       "    </tr>\n",
       "  </tbody>\n",
       "</table>\n",
       "</div>"
      ],
      "text/plain": [
       "              id  item_search  \\\n",
       "0   MLA918072516  Google Home   \n",
       "1  MLA1146279904  Google Home   \n",
       "2  MLA1376911913  Google Home   \n",
       "\n",
       "                                               title condition  \\\n",
       "0  Google Nest Mini Nest Mini 2nd Gen Con Asisten...       new   \n",
       "1  Google Home Mini Con Asistente Virtual Google ...       new   \n",
       "2  Google Home Mini Con Asistente Virtual Google ...       new   \n",
       "\n",
       "               domain     price  original_price              date_created  \\\n",
       "0  MLA-SMART_SPEAKERS   61740.5         64990.0  2021-04-26T19:22:18.000Z   \n",
       "1  MLA-SMART_SPEAKERS   67190.0         99990.0  2022-07-09T21:58:24.000Z   \n",
       "2  MLA-SMART_SPEAKERS  128999.0             NaN  2023-07-12T23:49:14.000Z   \n",
       "\n",
       "               date_updated  quantity  \\\n",
       "0  2024-04-26T15:05:18.000Z      1935   \n",
       "1  2024-04-26T03:17:56.287Z      1271   \n",
       "2  2024-04-17T17:40:46.000Z        20   \n",
       "\n",
       "                                                link  status  \n",
       "0  https://articulo.mercadolibre.com.ar/MLA-91807...  active  \n",
       "1  https://articulo.mercadolibre.com.ar/MLA-11462...  active  \n",
       "2  https://articulo.mercadolibre.com.ar/MLA-13769...  active  "
      ]
     },
     "execution_count": 5,
     "metadata": {},
     "output_type": "execute_result"
    }
   ],
   "source": [
    "df_raw = pd.DataFrame(product_list)\n",
    "df = df_raw.drop_duplicates(subset='id')\n",
    "df.head(3)"
   ]
  },
  {
   "cell_type": "markdown",
   "metadata": {},
   "source": [
    "#### 6 - Exportação dos Dados"
   ]
  },
  {
   "cell_type": "code",
   "execution_count": 6,
   "metadata": {},
   "outputs": [],
   "source": [
    "\n",
    "df.to_csv(OUTPUT_NAME, index=False)"
   ]
  }
 ],
 "metadata": {
  "kernelspec": {
   "display_name": "openai-env",
   "language": "python",
   "name": "python3"
  },
  "language_info": {
   "codemirror_mode": {
    "name": "ipython",
    "version": 3
   },
   "file_extension": ".py",
   "mimetype": "text/x-python",
   "name": "python",
   "nbconvert_exporter": "python",
   "pygments_lexer": "ipython3",
   "version": "3.8.16"
  }
 },
 "nbformat": 4,
 "nbformat_minor": 2
}
