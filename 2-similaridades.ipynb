{
 "cells": [
  {
   "cell_type": "markdown",
   "metadata": {},
   "source": [
    "## Similaridade Entre Produtos"
   ]
  },
  {
   "cell_type": "markdown",
   "metadata": {},
   "source": [
    "Um script simples que permite a análise de similaridade entre 2 produtos diferentes utilizando geometria analítica - Similaridade/Distância do Cosseno. Para esta implementação, calculamo a distância angular de dois vetores compostos dos tokens gerados das strings de nossos produtos.\n"
   ]
  },
  {
   "cell_type": "markdown",
   "metadata": {},
   "source": [
    "![Esquema](https://www.researchgate.net/profile/Claudio-Lima-15/publication/370107074/figure/fig4/AS:11431281151632568@1681994414598/Figura-12-Medida-cosseno-de-similaridade-de-documentos.png)"
   ]
  },
  {
   "cell_type": "markdown",
   "metadata": {},
   "source": [
    "#### 1 - Importação e Definição da função de Similaridade"
   ]
  },
  {
   "cell_type": "code",
   "execution_count": 46,
   "metadata": {},
   "outputs": [],
   "source": [
    "import pandas as pd\n",
    "import math\n",
    "import itertools\n",
    "import time"
   ]
  },
  {
   "cell_type": "markdown",
   "metadata": {},
   "source": [
    "#### 2 - Modelagem da Similaridade/Distância do Cosseno"
   ]
  },
  {
   "cell_type": "markdown",
   "metadata": {},
   "source": [
    "##### 2.1 - Definição das Strings"
   ]
  },
  {
   "cell_type": "code",
   "execution_count": 47,
   "metadata": {},
   "outputs": [],
   "source": [
    "str1 = \"Zapatillas Nike\"\n",
    "str2 = \"Zapatillas Adidas\""
   ]
  },
  {
   "cell_type": "markdown",
   "metadata": {},
   "source": [
    "##### 2.2 - Tokenização com conjunto único"
   ]
  },
  {
   "cell_type": "code",
   "execution_count": 48,
   "metadata": {},
   "outputs": [
    {
     "data": {
      "text/plain": [
       "{'Adidas', 'Nike', 'Zapatillas'}"
      ]
     },
     "execution_count": 48,
     "metadata": {},
     "output_type": "execute_result"
    }
   ],
   "source": [
    "tokens_str1 = str1.split()\n",
    "tokens_str2 = str2.split()\n",
    "\n",
    "unique_tokens = set(tokens_str1 + tokens_str2)\n",
    "unique_tokens"
   ]
  },
  {
   "cell_type": "markdown",
   "metadata": {},
   "source": [
    "##### 2.3 - Vetorização"
   ]
  },
  {
   "cell_type": "code",
   "execution_count": 49,
   "metadata": {},
   "outputs": [
    {
     "name": "stdout",
     "output_type": "stream",
     "text": [
      "[1, 0, 1]\n",
      "[1, 1, 0]\n"
     ]
    }
   ],
   "source": [
    "vec_str1 = [tokens_str1.count(token) for token in unique_tokens]\n",
    "vec_str2 = [tokens_str2.count(token) for token in unique_tokens]\n",
    "\n",
    "print(vec_str1)\n",
    "print(vec_str2)"
   ]
  },
  {
   "cell_type": "markdown",
   "metadata": {},
   "source": [
    "##### 2.4 - Cálculo do Produto Interno dos Vetores"
   ]
  },
  {
   "cell_type": "code",
   "execution_count": 50,
   "metadata": {},
   "outputs": [
    {
     "data": {
      "text/plain": [
       "1"
      ]
     },
     "execution_count": 50,
     "metadata": {},
     "output_type": "execute_result"
    }
   ],
   "source": [
    "dot_product = sum(i*j for i, j in zip(vec_str1, vec_str2))\n",
    "dot_product"
   ]
  },
  {
   "cell_type": "markdown",
   "metadata": {},
   "source": [
    "##### 2.5 - Cálculo da Magnitude dos vetores"
   ]
  },
  {
   "cell_type": "code",
   "execution_count": 51,
   "metadata": {},
   "outputs": [
    {
     "name": "stdout",
     "output_type": "stream",
     "text": [
      "1.4142135623730951\n",
      "1.4142135623730951\n"
     ]
    }
   ],
   "source": [
    "magnitude_str1 = math.sqrt(sum(i**2 for i in vec_str1))\n",
    "magnitude_str2 = math.sqrt(sum(i**2 for i in vec_str2))\n",
    "print(magnitude_str1)\n",
    "print(magnitude_str2)"
   ]
  },
  {
   "cell_type": "markdown",
   "metadata": {},
   "source": [
    "##### 2.6 - Cálculo da Similaridade do Cosseno"
   ]
  },
  {
   "cell_type": "markdown",
   "metadata": {},
   "source": [
    "Calcula-se a similaridade através da fórmula abaixo (Produto interno / Magnitude de cada Vetor), obtendo o mesmo valor encontrado no enunciado do case"
   ]
  },
  {
   "cell_type": "markdown",
   "metadata": {},
   "source": [
    "![Fórmula](https://miro.medium.com/v2/resize:fit:858/0*7dWSG0979AvY4Wo2)"
   ]
  },
  {
   "cell_type": "code",
   "execution_count": 52,
   "metadata": {},
   "outputs": [
    {
     "data": {
      "text/plain": [
       "0.5"
      ]
     },
     "execution_count": 52,
     "metadata": {},
     "output_type": "execute_result"
    }
   ],
   "source": [
    "similarity = dot_product / (magnitude_str1 * magnitude_str2)\n",
    "round(similarity,2)"
   ]
  },
  {
   "cell_type": "markdown",
   "metadata": {},
   "source": [
    "#### 3 - Aplicação do Script"
   ]
  },
  {
   "cell_type": "markdown",
   "metadata": {},
   "source": [
    "##### 3.1 - Definição da Função de Similaridade"
   ]
  },
  {
   "cell_type": "code",
   "execution_count": 53,
   "metadata": {},
   "outputs": [],
   "source": [
    "def cosine_similarity(row):\n",
    "    str1 = row['Item 1']\n",
    "    str2 = row['Item 2']\n",
    "\n",
    "    tokens_str1 = str1.split()\n",
    "    tokens_str2 = str2.split()\n",
    "    \n",
    "    unique_tokens = set(tokens_str1 + tokens_str2)\n",
    "    \n",
    "    vec_str1 = [tokens_str1.count(token) for token in unique_tokens]\n",
    "    vec_str2 = [tokens_str2.count(token) for token in unique_tokens]\n",
    "    \n",
    "    dot_product = sum(i*j for i, j in zip(vec_str1, vec_str2))\n",
    "    \n",
    "    magnitude_str1 = math.sqrt(sum(i**2 for i in vec_str1))\n",
    "    magnitude_str2 = math.sqrt(sum(i**2 for i in vec_str2))\n",
    "    \n",
    "    similarity = dot_product / (magnitude_str1 * magnitude_str2)\n",
    "    \n",
    "    return similarity"
   ]
  },
  {
   "cell_type": "markdown",
   "metadata": {},
   "source": [
    "##### 3.2 - Carregamento dos Dados"
   ]
  },
  {
   "cell_type": "code",
   "execution_count": 54,
   "metadata": {},
   "outputs": [
    {
     "data": {
      "text/html": [
       "<div>\n",
       "<style scoped>\n",
       "    .dataframe tbody tr th:only-of-type {\n",
       "        vertical-align: middle;\n",
       "    }\n",
       "\n",
       "    .dataframe tbody tr th {\n",
       "        vertical-align: top;\n",
       "    }\n",
       "\n",
       "    .dataframe thead th {\n",
       "        text-align: right;\n",
       "    }\n",
       "</style>\n",
       "<table border=\"1\" class=\"dataframe\">\n",
       "  <thead>\n",
       "    <tr style=\"text-align: right;\">\n",
       "      <th></th>\n",
       "      <th>ITE_ITEM_TITLE</th>\n",
       "    </tr>\n",
       "  </thead>\n",
       "  <tbody>\n",
       "    <tr>\n",
       "      <th>0</th>\n",
       "      <td>Tênis Olympikus Esporte Valente - Masculino Kids</td>\n",
       "    </tr>\n",
       "    <tr>\n",
       "      <th>1</th>\n",
       "      <td>Bicicleta Barra Forte Samy C/ 6 Marchas Cubo C...</td>\n",
       "    </tr>\n",
       "    <tr>\n",
       "      <th>2</th>\n",
       "      <td>Tênis Usthemp Slip-on Temático - Labrador 2</td>\n",
       "    </tr>\n",
       "    <tr>\n",
       "      <th>3</th>\n",
       "      <td>Tênis Casual Feminino Moleca Tecido Tie Dye</td>\n",
       "    </tr>\n",
       "    <tr>\n",
       "      <th>4</th>\n",
       "      <td>Tênis Star Baby Sapatinho Conforto + Brinde</td>\n",
       "    </tr>\n",
       "  </tbody>\n",
       "</table>\n",
       "</div>"
      ],
      "text/plain": [
       "                                      ITE_ITEM_TITLE\n",
       "0   Tênis Olympikus Esporte Valente - Masculino Kids\n",
       "1  Bicicleta Barra Forte Samy C/ 6 Marchas Cubo C...\n",
       "2       Tênis Usthemp Slip-on Temático - Labrador 2\n",
       "3        Tênis Casual Feminino Moleca Tecido Tie Dye\n",
       "4        Tênis Star Baby Sapatinho Conforto + Brinde"
      ]
     },
     "execution_count": 54,
     "metadata": {},
     "output_type": "execute_result"
    }
   ],
   "source": [
    "df = pd.read_csv('data/items_titles_test.csv')\n",
    "df.head(5)"
   ]
  },
  {
   "cell_type": "markdown",
   "metadata": {},
   "source": [
    "##### 3.3 - Verificação dos Dados"
   ]
  },
  {
   "cell_type": "code",
   "execution_count": 55,
   "metadata": {},
   "outputs": [
    {
     "name": "stdout",
     "output_type": "stream",
     "text": [
      "0\n"
     ]
    }
   ],
   "source": [
    "print(len(df.loc[df.duplicated()]))\n"
   ]
  },
  {
   "cell_type": "code",
   "execution_count": 56,
   "metadata": {},
   "outputs": [
    {
     "name": "stdout",
     "output_type": "stream",
     "text": [
      "ITE_ITEM_TITLE    0\n",
      "dtype: int64\n"
     ]
    }
   ],
   "source": [
    "print(df.isna().sum())"
   ]
  },
  {
   "cell_type": "markdown",
   "metadata": {},
   "source": [
    "##### 3.4 - Modelagem e Adaptação para implementação do Script"
   ]
  },
  {
   "cell_type": "markdown",
   "metadata": {},
   "source": [
    "Nesta etapa, utilizamos um exemplo de produto para ser comparado com os outros itens da lista"
   ]
  },
  {
   "cell_type": "code",
   "execution_count": 57,
   "metadata": {},
   "outputs": [
    {
     "data": {
      "text/html": [
       "<div>\n",
       "<style scoped>\n",
       "    .dataframe tbody tr th:only-of-type {\n",
       "        vertical-align: middle;\n",
       "    }\n",
       "\n",
       "    .dataframe tbody tr th {\n",
       "        vertical-align: top;\n",
       "    }\n",
       "\n",
       "    .dataframe thead th {\n",
       "        text-align: right;\n",
       "    }\n",
       "</style>\n",
       "<table border=\"1\" class=\"dataframe\">\n",
       "  <thead>\n",
       "    <tr style=\"text-align: right;\">\n",
       "      <th></th>\n",
       "      <th>Item 1</th>\n",
       "      <th>Item 2</th>\n",
       "    </tr>\n",
       "  </thead>\n",
       "  <tbody>\n",
       "    <tr>\n",
       "      <th>0</th>\n",
       "      <td>Tênis Olympikus Esporte Valente - Masculino Kids</td>\n",
       "      <td>Tênis Olympikus Esporte Valente - Masculino Kids</td>\n",
       "    </tr>\n",
       "    <tr>\n",
       "      <th>1</th>\n",
       "      <td>Tênis Olympikus Esporte Valente - Masculino Kids</td>\n",
       "      <td>Bicicleta Barra Forte Samy C/ 6 Marchas Cubo C...</td>\n",
       "    </tr>\n",
       "    <tr>\n",
       "      <th>2</th>\n",
       "      <td>Tênis Olympikus Esporte Valente - Masculino Kids</td>\n",
       "      <td>Tênis Usthemp Slip-on Temático - Labrador 2</td>\n",
       "    </tr>\n",
       "    <tr>\n",
       "      <th>3</th>\n",
       "      <td>Tênis Olympikus Esporte Valente - Masculino Kids</td>\n",
       "      <td>Tênis Casual Feminino Moleca Tecido Tie Dye</td>\n",
       "    </tr>\n",
       "    <tr>\n",
       "      <th>4</th>\n",
       "      <td>Tênis Olympikus Esporte Valente - Masculino Kids</td>\n",
       "      <td>Tênis Star Baby Sapatinho Conforto + Brinde</td>\n",
       "    </tr>\n",
       "  </tbody>\n",
       "</table>\n",
       "</div>"
      ],
      "text/plain": [
       "                                             Item 1  \\\n",
       "0  Tênis Olympikus Esporte Valente - Masculino Kids   \n",
       "1  Tênis Olympikus Esporte Valente - Masculino Kids   \n",
       "2  Tênis Olympikus Esporte Valente - Masculino Kids   \n",
       "3  Tênis Olympikus Esporte Valente - Masculino Kids   \n",
       "4  Tênis Olympikus Esporte Valente - Masculino Kids   \n",
       "\n",
       "                                              Item 2  \n",
       "0   Tênis Olympikus Esporte Valente - Masculino Kids  \n",
       "1  Bicicleta Barra Forte Samy C/ 6 Marchas Cubo C...  \n",
       "2       Tênis Usthemp Slip-on Temático - Labrador 2  \n",
       "3        Tênis Casual Feminino Moleca Tecido Tie Dye  \n",
       "4        Tênis Star Baby Sapatinho Conforto + Brinde  "
      ]
     },
     "execution_count": 57,
     "metadata": {},
     "output_type": "execute_result"
    }
   ],
   "source": [
    "product = 'Tênis Olympikus Esporte Valente - Masculino Kids'\n",
    "product_list = df['ITE_ITEM_TITLE'].tolist()\n",
    "\n",
    "combinations = list(itertools.product([product], product_list))\n",
    "df_report = pd.DataFrame(combinations, columns=['Item 1', 'Item 2'])\n",
    "df_report.head(5)"
   ]
  },
  {
   "cell_type": "markdown",
   "metadata": {},
   "source": [
    "É necessário a remoção do mesmo produto entre ambos os itens"
   ]
  },
  {
   "cell_type": "code",
   "execution_count": 58,
   "metadata": {},
   "outputs": [
    {
     "data": {
      "text/html": [
       "<div>\n",
       "<style scoped>\n",
       "    .dataframe tbody tr th:only-of-type {\n",
       "        vertical-align: middle;\n",
       "    }\n",
       "\n",
       "    .dataframe tbody tr th {\n",
       "        vertical-align: top;\n",
       "    }\n",
       "\n",
       "    .dataframe thead th {\n",
       "        text-align: right;\n",
       "    }\n",
       "</style>\n",
       "<table border=\"1\" class=\"dataframe\">\n",
       "  <thead>\n",
       "    <tr style=\"text-align: right;\">\n",
       "      <th></th>\n",
       "      <th>Item 1</th>\n",
       "      <th>Item 2</th>\n",
       "    </tr>\n",
       "  </thead>\n",
       "  <tbody>\n",
       "    <tr>\n",
       "      <th>1</th>\n",
       "      <td>Tênis Olympikus Esporte Valente - Masculino Kids</td>\n",
       "      <td>Bicicleta Barra Forte Samy C/ 6 Marchas Cubo C...</td>\n",
       "    </tr>\n",
       "    <tr>\n",
       "      <th>2</th>\n",
       "      <td>Tênis Olympikus Esporte Valente - Masculino Kids</td>\n",
       "      <td>Tênis Usthemp Slip-on Temático - Labrador 2</td>\n",
       "    </tr>\n",
       "    <tr>\n",
       "      <th>3</th>\n",
       "      <td>Tênis Olympikus Esporte Valente - Masculino Kids</td>\n",
       "      <td>Tênis Casual Feminino Moleca Tecido Tie Dye</td>\n",
       "    </tr>\n",
       "    <tr>\n",
       "      <th>4</th>\n",
       "      <td>Tênis Olympikus Esporte Valente - Masculino Kids</td>\n",
       "      <td>Tênis Star Baby Sapatinho Conforto + Brinde</td>\n",
       "    </tr>\n",
       "    <tr>\n",
       "      <th>5</th>\n",
       "      <td>Tênis Olympikus Esporte Valente - Masculino Kids</td>\n",
       "      <td>Tênis Oakley Frequency 3.0 Preto/marrom</td>\n",
       "    </tr>\n",
       "  </tbody>\n",
       "</table>\n",
       "</div>"
      ],
      "text/plain": [
       "                                             Item 1  \\\n",
       "1  Tênis Olympikus Esporte Valente - Masculino Kids   \n",
       "2  Tênis Olympikus Esporte Valente - Masculino Kids   \n",
       "3  Tênis Olympikus Esporte Valente - Masculino Kids   \n",
       "4  Tênis Olympikus Esporte Valente - Masculino Kids   \n",
       "5  Tênis Olympikus Esporte Valente - Masculino Kids   \n",
       "\n",
       "                                              Item 2  \n",
       "1  Bicicleta Barra Forte Samy C/ 6 Marchas Cubo C...  \n",
       "2       Tênis Usthemp Slip-on Temático - Labrador 2  \n",
       "3        Tênis Casual Feminino Moleca Tecido Tie Dye  \n",
       "4        Tênis Star Baby Sapatinho Conforto + Brinde  \n",
       "5            Tênis Oakley Frequency 3.0 Preto/marrom  "
      ]
     },
     "execution_count": 58,
     "metadata": {},
     "output_type": "execute_result"
    }
   ],
   "source": [
    "df_report= df_report.loc[df_report['Item 1'] != df_report['Item 2']]\n",
    "df_report.head(5)"
   ]
  },
  {
   "cell_type": "markdown",
   "metadata": {},
   "source": [
    "##### 3.5 - Aplicação da Função de Similaridade"
   ]
  },
  {
   "cell_type": "markdown",
   "metadata": {},
   "source": [
    "Aplica-se a função para comparar cada item da lista, ordenando os maiores scores de similaridade e obtendo o tempo de execução"
   ]
  },
  {
   "cell_type": "code",
   "execution_count": 59,
   "metadata": {},
   "outputs": [
    {
     "name": "stdout",
     "output_type": "stream",
     "text": [
      "0.46s de execução para 10k produtos\n"
     ]
    },
    {
     "data": {
      "text/html": [
       "<div>\n",
       "<style scoped>\n",
       "    .dataframe tbody tr th:only-of-type {\n",
       "        vertical-align: middle;\n",
       "    }\n",
       "\n",
       "    .dataframe tbody tr th {\n",
       "        vertical-align: top;\n",
       "    }\n",
       "\n",
       "    .dataframe thead th {\n",
       "        text-align: right;\n",
       "    }\n",
       "</style>\n",
       "<table border=\"1\" class=\"dataframe\">\n",
       "  <thead>\n",
       "    <tr style=\"text-align: right;\">\n",
       "      <th></th>\n",
       "      <th>Item 1</th>\n",
       "      <th>Item 2</th>\n",
       "      <th>Score Similitud (0,1)</th>\n",
       "    </tr>\n",
       "  </thead>\n",
       "  <tbody>\n",
       "    <tr>\n",
       "      <th>4241</th>\n",
       "      <td>Tênis Olympikus Esporte Valente - Masculino Kids</td>\n",
       "      <td>Tênis Olympikus Esporte Valente - Masculino In...</td>\n",
       "      <td>0.801784</td>\n",
       "    </tr>\n",
       "    <tr>\n",
       "      <th>7922</th>\n",
       "      <td>Tênis Olympikus Esporte Valente - Masculino Kids</td>\n",
       "      <td>Tênis Olympikus Masculino Valente - Kids Infan...</td>\n",
       "      <td>0.755929</td>\n",
       "    </tr>\n",
       "    <tr>\n",
       "      <th>642</th>\n",
       "      <td>Tênis Olympikus Esporte Valente - Masculino Kids</td>\n",
       "      <td>Tênis Olympikus Perfil - Masculino</td>\n",
       "      <td>0.676123</td>\n",
       "    </tr>\n",
       "    <tr>\n",
       "      <th>3271</th>\n",
       "      <td>Tênis Olympikus Esporte Valente - Masculino Kids</td>\n",
       "      <td>Tênis Olympikus Fourty - Masculino</td>\n",
       "      <td>0.676123</td>\n",
       "    </tr>\n",
       "    <tr>\n",
       "      <th>6977</th>\n",
       "      <td>Tênis Olympikus Esporte Valente - Masculino Kids</td>\n",
       "      <td>Tênis Olympikus Masculino - Preto/verde</td>\n",
       "      <td>0.676123</td>\n",
       "    </tr>\n",
       "    <tr>\n",
       "      <th>...</th>\n",
       "      <td>...</td>\n",
       "      <td>...</td>\n",
       "      <td>...</td>\n",
       "    </tr>\n",
       "    <tr>\n",
       "      <th>7686</th>\n",
       "      <td>Tênis Olympikus Esporte Valente - Masculino Kids</td>\n",
       "      <td>Reebok Atv 19</td>\n",
       "      <td>0.000000</td>\n",
       "    </tr>\n",
       "    <tr>\n",
       "      <th>3504</th>\n",
       "      <td>Tênis Olympikus Esporte Valente - Masculino Kids</td>\n",
       "      <td>Tenis Feminino Casual Maryland</td>\n",
       "      <td>0.000000</td>\n",
       "    </tr>\n",
       "    <tr>\n",
       "      <th>7690</th>\n",
       "      <td>Tênis Olympikus Esporte Valente - Masculino Kids</td>\n",
       "      <td>Tenis Infantil Feminino Luzinha De Led Que Pis...</td>\n",
       "      <td>0.000000</td>\n",
       "    </tr>\n",
       "    <tr>\n",
       "      <th>7691</th>\n",
       "      <td>Tênis Olympikus Esporte Valente - Masculino Kids</td>\n",
       "      <td>Bicicleta 29 Totem Pro Alivio Com 3x 9v Susp T...</td>\n",
       "      <td>0.000000</td>\n",
       "    </tr>\n",
       "    <tr>\n",
       "      <th>1</th>\n",
       "      <td>Tênis Olympikus Esporte Valente - Masculino Kids</td>\n",
       "      <td>Bicicleta Barra Forte Samy C/ 6 Marchas Cubo C...</td>\n",
       "      <td>0.000000</td>\n",
       "    </tr>\n",
       "  </tbody>\n",
       "</table>\n",
       "<p>9999 rows × 3 columns</p>\n",
       "</div>"
      ],
      "text/plain": [
       "                                                Item 1  \\\n",
       "4241  Tênis Olympikus Esporte Valente - Masculino Kids   \n",
       "7922  Tênis Olympikus Esporte Valente - Masculino Kids   \n",
       "642   Tênis Olympikus Esporte Valente - Masculino Kids   \n",
       "3271  Tênis Olympikus Esporte Valente - Masculino Kids   \n",
       "6977  Tênis Olympikus Esporte Valente - Masculino Kids   \n",
       "...                                                ...   \n",
       "7686  Tênis Olympikus Esporte Valente - Masculino Kids   \n",
       "3504  Tênis Olympikus Esporte Valente - Masculino Kids   \n",
       "7690  Tênis Olympikus Esporte Valente - Masculino Kids   \n",
       "7691  Tênis Olympikus Esporte Valente - Masculino Kids   \n",
       "1     Tênis Olympikus Esporte Valente - Masculino Kids   \n",
       "\n",
       "                                                 Item 2  Score Similitud (0,1)  \n",
       "4241  Tênis Olympikus Esporte Valente - Masculino In...               0.801784  \n",
       "7922  Tênis Olympikus Masculino Valente - Kids Infan...               0.755929  \n",
       "642                  Tênis Olympikus Perfil - Masculino               0.676123  \n",
       "3271                 Tênis Olympikus Fourty - Masculino               0.676123  \n",
       "6977            Tênis Olympikus Masculino - Preto/verde               0.676123  \n",
       "...                                                 ...                    ...  \n",
       "7686                                      Reebok Atv 19               0.000000  \n",
       "3504                     Tenis Feminino Casual Maryland               0.000000  \n",
       "7690  Tenis Infantil Feminino Luzinha De Led Que Pis...               0.000000  \n",
       "7691  Bicicleta 29 Totem Pro Alivio Com 3x 9v Susp T...               0.000000  \n",
       "1     Bicicleta Barra Forte Samy C/ 6 Marchas Cubo C...               0.000000  \n",
       "\n",
       "[9999 rows x 3 columns]"
      ]
     },
     "execution_count": 59,
     "metadata": {},
     "output_type": "execute_result"
    }
   ],
   "source": [
    "t1 = time.time()\n",
    "df_report['Score Similitud (0,1)'] = df_report.apply(cosine_similarity, axis=1)\n",
    "df_report = df_report.sort_values(by='Score Similitud (0,1)', ascending=False)\n",
    "print(f'{round(time.time() - t1, 2)}s de execução para 10k produtos')\n",
    "df_report"
   ]
  },
  {
   "cell_type": "markdown",
   "metadata": {},
   "source": [
    "Observamos assim, que para a comparação de um produto com outros 10 mil em uma lista, temos o tempo de execução de aproximadamente **0.49 segundos**."
   ]
  },
  {
   "cell_type": "markdown",
   "metadata": {},
   "source": [
    "Novos produtos podem ser verificados e comparados sem a necessidade de treinamento de um modelo, justificando assim o emprego deste script e descatando a sua**escalabilidade**."
   ]
  },
  {
   "cell_type": "markdown",
   "metadata": {},
   "source": [
    "#### 4 - Exportação dos Dados"
   ]
  },
  {
   "cell_type": "code",
   "execution_count": 60,
   "metadata": {},
   "outputs": [],
   "source": [
    "df_report.to_excel('output/similaridades.xlsx', index=False)"
   ]
  }
 ],
 "metadata": {
  "kernelspec": {
   "display_name": "lab",
   "language": "python",
   "name": "python3"
  },
  "language_info": {
   "codemirror_mode": {
    "name": "ipython",
    "version": 3
   },
   "file_extension": ".py",
   "mimetype": "text/x-python",
   "name": "python",
   "nbconvert_exporter": "python",
   "pygments_lexer": "ipython3",
   "version": "3.8.13"
  }
 },
 "nbformat": 4,
 "nbformat_minor": 2
}
